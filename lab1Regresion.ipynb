{
 "cells": [
  {
   "cell_type": "markdown",
   "id": "3115c4ee-56ab-43c9-afa5-6d1dcd2b127f",
   "metadata": {},
   "source": [
    "# Preguntas"
   ]
  },
  {
   "cell_type": "code",
   "execution_count": null,
   "id": "7d41973c-c807-475b-a918-7801acc8dea8",
   "metadata": {},
   "outputs": [],
   "source": [
    "Responda a cada de las siguientes preguntas de forma clara y lo más completamente posible. \n",
    "1. Considera un modelo de regresión lineal con dos características, X₁ y X₂, y sus pesos correspondientes w₁ y w₂. Si el modelo predice una salida y mediante la ecuación y = 2w₁X₁ + 3w₂X₂ + 1, ¿cuál es la interpretación del coeficiente 3w₂ en el contexto del modelo? \n",
    "Teniendo en consideración que (w1,w2) son los respectivos pesos para (X1, X2) entonces tenemos que el coeficiente 3w2 es el aporte que tiene X2 para la salida Y. Es decir, qué tanta contribución tiene el peso w2 de la característica X2 en el resultado Y. \n",
    "\n",
    "2. Explica el concepto de multicolinealidad en el contexto de la regresión lineal. ¿Cómo afecta la multicolinealidad a la interpretación de los coeficientes de regresión individuales? \n",
    "\n",
    "La multicolinealidad es cuando en un modelo de regresión lineal dos o más variables independientes tienen correlación. Esto resulta en dificultad en la interpretación de coeficientes debido a que aumenta el error estándar , lo cual hace lo hace tener más incertidumbre en los datos. \n"
   ]
  },
  {
   "cell_type": "code",
   "execution_count": 108,
   "id": "f08d79a6-9089-4209-bd1d-cf7da4e056dd",
   "metadata": {},
   "outputs": [],
   "source": [
    "import pandas as pd\n",
    "import matplotlib.pyplot as plt\n",
    "import seaborn as sns\n",
    "import numpy as np\n",
    "\n"
   ]
  },
  {
   "cell_type": "code",
   "execution_count": 109,
   "id": "df992f4c-e44c-4909-aafe-d16c0cec7aa3",
   "metadata": {},
   "outputs": [],
   "source": [
    "df = pd.read_csv(\"dataset_phishing.csv\", sep = \",\")\n"
   ]
  },
  {
   "cell_type": "markdown",
   "id": "4ad4fc05-96ed-4c57-8276-294a185aa8fa",
   "metadata": {},
   "source": [
    "## Encoding para la variable Status"
   ]
  },
  {
   "cell_type": "code",
   "execution_count": 110,
   "id": "b70b94fc-3e3e-43b5-9bb0-4f84f298235a",
   "metadata": {},
   "outputs": [],
   "source": [
    "# Crear columnas separadas para \"legitimate\" y \"phishing\" con valores 0 o 1\n",
    "df['legitimate'] = (df['status'] == 'legitimate').astype(int)\n",
    "df['phishing'] = (df['status'] == 'phishing').astype(int)"
   ]
  },
  {
   "cell_type": "markdown",
   "id": "38552b20-f82d-46cd-a05f-d6cca79000a0",
   "metadata": {},
   "source": [
    "## Regresión logistica\n",
    "\n",
    "### 1.) Procesar los datos"
   ]
  },
  {
   "cell_type": "code",
   "execution_count": 111,
   "id": "05cb01be-f04c-41a8-bc82-eebc206be332",
   "metadata": {},
   "outputs": [],
   "source": [
    "X = df[['length_url', 'nb_dots']].values  # Características\n",
    "y = df['phishing'].values  # Variable objetivo"
   ]
  },
  {
   "cell_type": "code",
   "execution_count": 112,
   "id": "03a1d051-eca3-49bd-8dfb-e962bc68278a",
   "metadata": {},
   "outputs": [],
   "source": [
    "from sklearn.model_selection import train_test_split\n",
    "\n",
    "# X = variable independiente\n",
    "# Y = indica si la instancia es pishing (1) o (0)\n",
    "# train_test_split: divide los datos en entrenamiento y prueba\n",
    "# X_train, Y_train: despues de dividir los datos contiene el conjunto de entrenamiento de x & y\n",
    "# X_test, Y_test: despues de dividir los datos contiene el conjunto de prueba de x & y \n",
    "X_train, X_test, y_train, y_test = train_test_split(X, y, test_size=0.2, random_state=42)\n"
   ]
  },
  {
   "cell_type": "markdown",
   "id": "5045de9b-289c-4afc-9837-756719373c43",
   "metadata": {},
   "source": [
    "##### Colocamos la formula sigmoide de regresión logistica en una función para pasar los parametros"
   ]
  },
  {
   "cell_type": "code",
   "execution_count": 113,
   "id": "f365d5c0-c5ca-417c-974c-de1b1dfd0dad",
   "metadata": {},
   "outputs": [],
   "source": [
    "def sigmoide(z):\n",
    "    return 1 / (1 + np.exp(-z))"
   ]
  },
  {
   "cell_type": "markdown",
   "id": "c5414997-8b6c-40f9-ba76-eaa28e0c8e30",
   "metadata": {},
   "source": [
    "##### Inicializar parametros w y b"
   ]
  },
  {
   "cell_type": "code",
   "execution_count": 114,
   "id": "a5c45c1d-c2bf-4e94-b533-d48b4147a1e1",
   "metadata": {},
   "outputs": [],
   "source": [
    "def inicializarParams(dim):\n",
    "    w = np.zeros((dim, 1)) #matriz de ceros\n",
    "    b = 0 #inicializar el sesgo en 0 \n",
    "    return w, b\n"
   ]
  },
  {
   "cell_type": "code",
   "execution_count": 115,
   "id": "d84370d9-66c9-49fd-bd8a-12ad40cb00bd",
   "metadata": {},
   "outputs": [],
   "source": [
    "def propagate(w, b, X, y): #w pesos, b sesgo, x matriz de fila representada A, y matriz de fila representada B \n",
    "    m = X.shape[0]\n",
    "    \n",
    "    # Forward: Se crea el sigmoide, calculando la combinación lineal\n",
    "    A = sigmoide(np.dot(X, w) + b) \n",
    "    # Etropia cruzada: Mide el rendimiento del problema \n",
    "    #Al utilizar esta formula obtenemos el coste promedio por todas las instancias\n",
    "    cost = (-1 / m) * np.sum(y * np.log(A + 1e-9) + (1 - y) * np.log(1 - A + 1e-9))\n",
    "    \n",
    "    # Backward:  utilizamos los parametros inicializados anteriromente (w y b) calculando los gradientes\n",
    "    dw = (1 / m) * np.dot(X.T, (A - y)) #actualiza  los pesos en la dirección que reduce el coste\n",
    "    db = (1 / m) * np.sum(A - y) #gradiante del coste con respecto al sesgo\n",
    "    \n",
    "    gradiantes = {\"dw\": dw, \"db\": db} #Diccionario con los gradiantes de los parametros utilizados (w y b)\n",
    "    \n",
    "    return gradiantes, cost\n"
   ]
  },
  {
   "cell_type": "markdown",
   "id": "ea2742f7-7c9e-4290-b644-76765b9a4d30",
   "metadata": {},
   "source": [
    "##### Encontrar los valores optimos para w y b"
   ]
  },
  {
   "cell_type": "code",
   "execution_count": 116,
   "id": "5aea147d-6c31-48b2-85b0-b6f0e2a87cf0",
   "metadata": {},
   "outputs": [],
   "source": [
    "# iterations_optimize: Optimizar las iteraciones del conjunto de datos\n",
    "# learning_rate: Curva de aprendizaje (tamaño de gradiante descendente)\n",
    "# print_cost: si es true imprime el coste de cada 100 iteraciones\n",
    "def optimize(w, b, X, y, iterations_optimize, learning_rate, print_cost=False):\n",
    "    costs = []  # Lista para almacenar el valor del coste en cada iteración\n",
    "    \n",
    "    for i in range(iterations_optimize):\n",
    "        gradients, cost = propagate(w, b, X, y)  # Obtiene los gradientes y el coste actual\n",
    "        \n",
    "        dw = gradients[\"dw\"]\n",
    "        db = gradients[\"db\"]\n",
    "        \n",
    "        w = w - learning_rate * dw  # Actualiza los pesos\n",
    "        b = b - learning_rate * db  # Actualiza el sesgo\n",
    "        \n",
    "        # Guarda el coste cada 100 iteraciones\n",
    "        if i % 100 == 0:\n",
    "            costs.append(cost)  # Usa 'costs.append' en lugar de 'cost.append'\n",
    "            if print_cost:\n",
    "                print(f\"Costo despues de la iteración {i}: {cost}\")\n",
    "    \n",
    "    params = {\"w\": w, \"b\": b}\n",
    "    gradients = {\"dw\": dw, \"db\": db}\n",
    "    \n",
    "    return params, gradients, costs\n",
    "\n",
    "    \n",
    "    #Retorna los parametros, cost y gradiantes\n",
    "    return params, gradiantes, cost\n"
   ]
  },
  {
   "cell_type": "markdown",
   "id": "7b4e5c9c-e3ba-43d7-a761-70899da52538",
   "metadata": {},
   "source": [
    "##### Por ultimo se predicen los nuevos datos X"
   ]
  },
  {
   "cell_type": "code",
   "execution_count": 117,
   "id": "4c0edb92-5f13-4334-af6b-4a20207440e9",
   "metadata": {},
   "outputs": [],
   "source": [
    "def predict(w, b, X): # x es donde iran los nuevos datos\n",
    "    m = X.shape[0] #num de ejemplos\n",
    "    y_prediccion = np.zeros((m, 1)) #Array de ceros donde se almacenaran las predicciones\n",
    "    w = w.reshape(X.shape[1], 1)\n",
    "    # calcula la probabilidad de que cada X pertenezca a la clase 1 utilizando sigmoide\n",
    "    A = sigmoide(np.dot(X, w) + b)\n",
    "    #asigna una predicción de 1 si la probabilidad es mayor que 0.5, y 0 si no es asi\n",
    "    for i in range(A.shape[0]):\n",
    "        y_prediccion[i, 0] = 1 if A[i, 0] > 0.5 else 0\n",
    "        \n",
    "    return y_prediccion\n"
   ]
  },
  {
   "cell_type": "markdown",
   "id": "838a6f07-5fd4-4965-ad86-1cedd6d881bc",
   "metadata": {},
   "source": [
    "## Entrenamiento del modelo"
   ]
  },
  {
   "cell_type": "code",
   "execution_count": null,
   "id": "5d6ded95-c82a-4e61-b64b-67a348f30d41",
   "metadata": {},
   "outputs": [
    {
     "name": "stdout",
     "output_type": "stream",
     "text": [
      "Costo despues de la iteración 0: 6338.137800753336\n",
      "Costo despues de la iteración 100: 1.747763484617389\n",
      "Costo despues de la iteración 200: 1.6214618643575636\n",
      "Costo despues de la iteración 300: 1.513158300248424\n",
      "Costo despues de la iteración 400: 1.4189940869484645\n"
     ]
    }
   ],
   "source": [
    "# Inicializar parámetros\n",
    "w, b = inicializarParams(X_train.shape[1])\n",
    "\n",
    "# Gradiente descendente\n",
    "iterations_optimize = 2000  # Número de iteraciones\n",
    "iterations_optimize = 2500  # Número de iteraciones intento 2\n",
    "\n",
    "learning_rate = 0.01\n",
    "params, gradiantes, cost  = optimize(w, b, X_train, y_train, iterations_optimize, learning_rate, print_cost=True)\n",
    "\n",
    "# Predicciones\n",
    "w = params[\"w\"]\n",
    "b = params[\"b\"]\n",
    "y_pred_train = predict(w, b, X_train)\n",
    "y_pred_test = predict(w, b, X_test)\n"
   ]
  },
  {
   "cell_type": "markdown",
   "id": "29f50b08-c006-4426-8b69-605103c949ae",
   "metadata": {},
   "source": [
    "##### Graficar el costo"
   ]
  },
  {
   "cell_type": "code",
   "execution_count": null,
   "id": "512828bc-8626-4d42-a6db-41a10785f05b",
   "metadata": {},
   "outputs": [],
   "source": [
    "import matplotlib.pyplot as plt\n",
    "\n",
    "plt.plot(costs)\n",
    "plt.ylabel('Costo')\n",
    "plt.xlabel('Iteraciones (por cientos)')\n",
    "plt.title('Costo vs. Número de Iteraciones')\n",
    "plt.show()\n"
   ]
  },
  {
   "cell_type": "code",
   "execution_count": null,
   "id": "4a2224ba-339f-4ab7-9d22-e2bc5b1c0ad0",
   "metadata": {},
   "outputs": [],
   "source": [
    "# Boxplot\n",
    "plt.figure(figsize=(8, 5))\n",
    "sns.boxplot(x='status', y='length_url', data=df, palette='pastel')\n",
    "plt.title('Boxplot de Longitud de la URL por Clase')\n",
    "plt.xlabel('Clase')\n",
    "plt.ylabel('Longitud de la URL')\n",
    "plt.show()\n"
   ]
  },
  {
   "cell_type": "code",
   "execution_count": null,
   "id": "3b5d8405-4c73-4bb3-9a7c-36e54651bc37",
   "metadata": {},
   "outputs": [],
   "source": [
    "# Histograma para Legitimate\n",
    "plt.figure(figsize=(12, 5))\n",
    "sns.histplot(legitimate_data['nb_dots'], bins=15, kde=True, color='lightcoral')\n",
    "plt.title('Histograma de Cantidad de Puntos en la URL para Legitimate')\n",
    "plt.xlabel('Cantidad de Puntos')\n",
    "plt.ylabel('Frecuencia')\n",
    "plt.show()\n"
   ]
  },
  {
   "cell_type": "code",
   "execution_count": null,
   "id": "faa42fd7-0a92-44bc-914e-5b5b22fda0f2",
   "metadata": {},
   "outputs": [],
   "source": [
    "\n",
    "# Histograma para Phishing\n",
    "plt.figure(figsize=(12, 5))\n",
    "sns.histplot(phishing_data['nb_dots'], bins=15, kde=True, color='skyblue')\n",
    "plt.title('Histograma de Cantidad de Puntos en la URL para Phishing')\n",
    "plt.xlabel('Cantidad de Puntos')\n",
    "plt.ylabel('Frecuencia')\n",
    "plt.show()\n"
   ]
  }
 ],
 "metadata": {
  "kernelspec": {
   "display_name": "Python 3 (ipykernel)",
   "language": "python",
   "name": "python3"
  },
  "language_info": {
   "codemirror_mode": {
    "name": "ipython",
    "version": 3
   },
   "file_extension": ".py",
   "mimetype": "text/x-python",
   "name": "python",
   "nbconvert_exporter": "python",
   "pygments_lexer": "ipython3",
   "version": "3.11.4"
  }
 },
 "nbformat": 4,
 "nbformat_minor": 5
}
