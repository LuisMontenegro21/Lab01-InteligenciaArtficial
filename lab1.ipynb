{
 "cells": [
  {
   "cell_type": "code",
   "execution_count": 13,
   "id": "f08d79a6-9089-4209-bd1d-cf7da4e056dd",
   "metadata": {},
   "outputs": [],
   "source": [
    "import pandas as pd\n",
    "import matplotlib.pyplot as plt\n",
    "import seaborn as sns\n",
    "from sklearn.model_selection import train_test_split\n",
    "import numpy as np\n"
   ]
  },
  {
   "cell_type": "code",
   "execution_count": 2,
   "id": "df992f4c-e44c-4909-aafe-d16c0cec7aa3",
   "metadata": {},
   "outputs": [],
   "source": [
    "df = pd.read_csv(\"dataset_phishing.csv\", sep = \",\")\n"
   ]
  },
  {
   "cell_type": "markdown",
   "id": "4ad4fc05-96ed-4c57-8276-294a185aa8fa",
   "metadata": {},
   "source": [
    "## Encoding para la variable Status"
   ]
  },
  {
   "cell_type": "code",
   "execution_count": 4,
   "id": "b70b94fc-3e3e-43b5-9bb0-4f84f298235a",
   "metadata": {},
   "outputs": [],
   "source": [
    "# Crear columnas separadas para \"legitimate\" y \"phishing\" con valores 0 o 1\n",
    "df['legitimate'] = (df['status'] == 'legitimate').astype(int)\n",
    "df['phishing'] = (df['status'] == 'phishing').astype(int)"
   ]
  },
  {
   "cell_type": "code",
   "execution_count": 6,
   "id": "f880cd98-fc0c-4bc8-92b7-189aea88d71f",
   "metadata": {},
   "outputs": [
    {
     "name": "stdin",
     "output_type": "stream",
     "text": [
      "Ingrese las filas que desea ver 5\n"
     ]
    },
    {
     "data": {
      "text/html": [
       "<div>\n",
       "<style scoped>\n",
       "    .dataframe tbody tr th:only-of-type {\n",
       "        vertical-align: middle;\n",
       "    }\n",
       "\n",
       "    .dataframe tbody tr th {\n",
       "        vertical-align: top;\n",
       "    }\n",
       "\n",
       "    .dataframe thead th {\n",
       "        text-align: right;\n",
       "    }\n",
       "</style>\n",
       "<table border=\"1\" class=\"dataframe\">\n",
       "  <thead>\n",
       "    <tr style=\"text-align: right;\">\n",
       "      <th></th>\n",
       "      <th>url</th>\n",
       "      <th>length_url</th>\n",
       "      <th>length_hostname</th>\n",
       "      <th>ip</th>\n",
       "      <th>nb_dots</th>\n",
       "      <th>nb_hyphens</th>\n",
       "      <th>nb_at</th>\n",
       "      <th>nb_qm</th>\n",
       "      <th>nb_and</th>\n",
       "      <th>nb_or</th>\n",
       "      <th>...</th>\n",
       "      <th>whois_registered_domain</th>\n",
       "      <th>domain_registration_length</th>\n",
       "      <th>domain_age</th>\n",
       "      <th>web_traffic</th>\n",
       "      <th>dns_record</th>\n",
       "      <th>google_index</th>\n",
       "      <th>page_rank</th>\n",
       "      <th>status</th>\n",
       "      <th>legitimate</th>\n",
       "      <th>phishing</th>\n",
       "    </tr>\n",
       "  </thead>\n",
       "  <tbody>\n",
       "    <tr>\n",
       "      <th>0</th>\n",
       "      <td>http://www.crestonwood.com/router.php</td>\n",
       "      <td>37</td>\n",
       "      <td>19</td>\n",
       "      <td>0</td>\n",
       "      <td>3</td>\n",
       "      <td>0</td>\n",
       "      <td>0</td>\n",
       "      <td>0</td>\n",
       "      <td>0</td>\n",
       "      <td>0</td>\n",
       "      <td>...</td>\n",
       "      <td>0</td>\n",
       "      <td>45</td>\n",
       "      <td>-1</td>\n",
       "      <td>0</td>\n",
       "      <td>1</td>\n",
       "      <td>1</td>\n",
       "      <td>4</td>\n",
       "      <td>legitimate</td>\n",
       "      <td>1</td>\n",
       "      <td>0</td>\n",
       "    </tr>\n",
       "    <tr>\n",
       "      <th>1</th>\n",
       "      <td>http://shadetreetechnology.com/V4/validation/a...</td>\n",
       "      <td>77</td>\n",
       "      <td>23</td>\n",
       "      <td>1</td>\n",
       "      <td>1</td>\n",
       "      <td>0</td>\n",
       "      <td>0</td>\n",
       "      <td>0</td>\n",
       "      <td>0</td>\n",
       "      <td>0</td>\n",
       "      <td>...</td>\n",
       "      <td>0</td>\n",
       "      <td>77</td>\n",
       "      <td>5767</td>\n",
       "      <td>0</td>\n",
       "      <td>0</td>\n",
       "      <td>1</td>\n",
       "      <td>2</td>\n",
       "      <td>phishing</td>\n",
       "      <td>0</td>\n",
       "      <td>1</td>\n",
       "    </tr>\n",
       "    <tr>\n",
       "      <th>2</th>\n",
       "      <td>https://support-appleld.com.secureupdate.duila...</td>\n",
       "      <td>126</td>\n",
       "      <td>50</td>\n",
       "      <td>1</td>\n",
       "      <td>4</td>\n",
       "      <td>1</td>\n",
       "      <td>0</td>\n",
       "      <td>1</td>\n",
       "      <td>2</td>\n",
       "      <td>0</td>\n",
       "      <td>...</td>\n",
       "      <td>0</td>\n",
       "      <td>14</td>\n",
       "      <td>4004</td>\n",
       "      <td>5828815</td>\n",
       "      <td>0</td>\n",
       "      <td>1</td>\n",
       "      <td>0</td>\n",
       "      <td>phishing</td>\n",
       "      <td>0</td>\n",
       "      <td>1</td>\n",
       "    </tr>\n",
       "    <tr>\n",
       "      <th>3</th>\n",
       "      <td>http://rgipt.ac.in</td>\n",
       "      <td>18</td>\n",
       "      <td>11</td>\n",
       "      <td>0</td>\n",
       "      <td>2</td>\n",
       "      <td>0</td>\n",
       "      <td>0</td>\n",
       "      <td>0</td>\n",
       "      <td>0</td>\n",
       "      <td>0</td>\n",
       "      <td>...</td>\n",
       "      <td>0</td>\n",
       "      <td>62</td>\n",
       "      <td>-1</td>\n",
       "      <td>107721</td>\n",
       "      <td>0</td>\n",
       "      <td>0</td>\n",
       "      <td>3</td>\n",
       "      <td>legitimate</td>\n",
       "      <td>1</td>\n",
       "      <td>0</td>\n",
       "    </tr>\n",
       "    <tr>\n",
       "      <th>4</th>\n",
       "      <td>http://www.iracing.com/tracks/gateway-motorspo...</td>\n",
       "      <td>55</td>\n",
       "      <td>15</td>\n",
       "      <td>0</td>\n",
       "      <td>2</td>\n",
       "      <td>2</td>\n",
       "      <td>0</td>\n",
       "      <td>0</td>\n",
       "      <td>0</td>\n",
       "      <td>0</td>\n",
       "      <td>...</td>\n",
       "      <td>0</td>\n",
       "      <td>224</td>\n",
       "      <td>8175</td>\n",
       "      <td>8725</td>\n",
       "      <td>0</td>\n",
       "      <td>0</td>\n",
       "      <td>6</td>\n",
       "      <td>legitimate</td>\n",
       "      <td>1</td>\n",
       "      <td>0</td>\n",
       "    </tr>\n",
       "  </tbody>\n",
       "</table>\n",
       "<p>5 rows × 91 columns</p>\n",
       "</div>"
      ],
      "text/plain": [
       "                                                 url  length_url  \\\n",
       "0              http://www.crestonwood.com/router.php          37   \n",
       "1  http://shadetreetechnology.com/V4/validation/a...          77   \n",
       "2  https://support-appleld.com.secureupdate.duila...         126   \n",
       "3                                 http://rgipt.ac.in          18   \n",
       "4  http://www.iracing.com/tracks/gateway-motorspo...          55   \n",
       "\n",
       "   length_hostname  ip  nb_dots  nb_hyphens  nb_at  nb_qm  nb_and  nb_or  ...  \\\n",
       "0               19   0        3           0      0      0       0      0  ...   \n",
       "1               23   1        1           0      0      0       0      0  ...   \n",
       "2               50   1        4           1      0      1       2      0  ...   \n",
       "3               11   0        2           0      0      0       0      0  ...   \n",
       "4               15   0        2           2      0      0       0      0  ...   \n",
       "\n",
       "   whois_registered_domain  domain_registration_length  domain_age  \\\n",
       "0                        0                          45          -1   \n",
       "1                        0                          77        5767   \n",
       "2                        0                          14        4004   \n",
       "3                        0                          62          -1   \n",
       "4                        0                         224        8175   \n",
       "\n",
       "   web_traffic  dns_record  google_index  page_rank      status  legitimate  \\\n",
       "0            0           1             1          4  legitimate           1   \n",
       "1            0           0             1          2    phishing           0   \n",
       "2      5828815           0             1          0    phishing           0   \n",
       "3       107721           0             0          3  legitimate           1   \n",
       "4         8725           0             0          6  legitimate           1   \n",
       "\n",
       "   phishing  \n",
       "0         0  \n",
       "1         1  \n",
       "2         1  \n",
       "3         0  \n",
       "4         0  \n",
       "\n",
       "[5 rows x 91 columns]"
      ]
     },
     "execution_count": 6,
     "metadata": {},
     "output_type": "execute_result"
    }
   ],
   "source": [
    "n = int(input(\"Ingrese las filas que desea ver\"))\n",
    "df.head(n)"
   ]
  },
  {
   "cell_type": "markdown",
   "id": "38552b20-f82d-46cd-a05f-d6cca79000a0",
   "metadata": {},
   "source": [
    "## Regresión logistica\n",
    "\n",
    "### 1.) Procesar los datos"
   ]
  },
  {
   "cell_type": "code",
   "execution_count": 9,
   "id": "05cb01be-f04c-41a8-bc82-eebc206be332",
   "metadata": {},
   "outputs": [],
   "source": [
    "X = df[['length_url', 'nb_dots']].values  # Características\n",
    "y = df['phishing'].values  # Variable objetivo"
   ]
  },
  {
   "cell_type": "code",
   "execution_count": null,
   "id": "03a1d051-eca3-49bd-8dfb-e962bc68278a",
   "metadata": {},
   "outputs": [],
   "source": [
    "# X = variable independiente\n",
    "# Y = indica si la instancia es pishing (1) o (0)\n",
    "# prueba_entrenamiento_split: divide los datos en entrenamiento y prueba\n",
    "# X_entrenamiento, Y_entrenamiento: despues de dividir los datos contiene el conjunto de entrenamiento de x & y\n",
    "# X_test, Y_test: despues de dividir los datos contiene el conjunto de prueba de x & y \n",
    "x_entrenamiento, x_test, y_entrenamiento, y_test = prueba_entrenamiento_split(X, y, tamanio_test=0.2, Estado_random=42)"
   ]
  },
  {
   "cell_type": "markdown",
   "id": "5045de9b-289c-4afc-9837-756719373c43",
   "metadata": {},
   "source": [
    "##### Colocamos la formula sigmoide de regresión logistica en una función para pasar los parametros"
   ]
  },
  {
   "cell_type": "code",
   "execution_count": null,
   "id": "f365d5c0-c5ca-417c-974c-de1b1dfd0dad",
   "metadata": {},
   "outputs": [],
   "source": [
    "def sigmoide(z):\n",
    "    return 1 / (1 + np.exp(-z))"
   ]
  },
  {
   "cell_type": "markdown",
   "id": "c5414997-8b6c-40f9-ba76-eaa28e0c8e30",
   "metadata": {},
   "source": [
    "##### Inicializar parametros w y b"
   ]
  },
  {
   "cell_type": "code",
   "execution_count": null,
   "id": "a5c45c1d-c2bf-4e94-b533-d48b4147a1e1",
   "metadata": {},
   "outputs": [],
   "source": [
    "def inicializarParams(dim):\n",
    "    w = np.zeros((dim, 1)) #matriz de ceros\n",
    "    b = 0 #inicializar el sesgo en 0 \n",
    "    return w, b\n"
   ]
  },
  {
   "cell_type": "code",
   "execution_count": null,
   "id": "d84370d9-66c9-49fd-bd8a-12ad40cb00bd",
   "metadata": {},
   "outputs": [],
   "source": [
    "def propagate(w, b, X, y): #w pesos, b sesgo, x matriz de fila representada A, y matriz de fila representada B \n",
    "    m = X.shape[0]\n",
    "    \n",
    "    # Forward: Se crea el sigmoide, calculando la combinación lineal\n",
    "    A = sigmoide(np.dot(X, w) + b) \n",
    "    # Etropia cruzada: Mide el rendimiento del problema \n",
    "    cost = (-1 / m) * np.sum(y * np.log(A) + (1 - y) * np.log(1 - A)) #Al utilizar esta formula obtenemos el coste promedio por todas las instancias\n",
    "    \n",
    "    # Backward:  utilizamos los parametros inicializados anteriromente (w y b) calculando los gradientes\n",
    "    dw = (1 / m) * np.dot(X.T, (A - y)) #actualiza  los pesos en la dirección que reduce el coste\n",
    "    db = (1 / m) * np.sum(A - y) #gradiante del coste con respecto al sesgo\n",
    "    \n",
    "    gradiantes = {\"dw\": dw, \"db\": db} #Diccionario con los gradiantes de los parametros utilizados (w y b)\n",
    "    \n",
    "    return gradiantes, cost\n"
   ]
  },
  {
   "cell_type": "markdown",
   "id": "ea2742f7-7c9e-4290-b644-76765b9a4d30",
   "metadata": {},
   "source": [
    "##### Encontrar los valores optimos para w y b"
   ]
  },
  {
   "cell_type": "code",
   "execution_count": null,
   "id": "5aea147d-6c31-48b2-85b0-b6f0e2a87cf0",
   "metadata": {},
   "outputs": [],
   "source": [
    "# iterations_optimize: Optimizar las iteraciones del conjunto de datos\n",
    "# learning_rate: Curva de aprendizaje (tamaño de gradiante descendente)\n",
    "# print_cost: si es true imprime el coste de cada 100 iteraciones\n",
    "def optimize(w, b, X, y, iterations_optimize, learning_rate, print_cost=False):\n",
    "    costos = []\n",
    "    #Bucle para iterations_optimize para calcular los gradiantes actuales (w y b), y actualizarlos\n",
    "    for i in range(iterations_optimize):\n",
    "        gradiantes, cost = propagate(w, b, X, y)\n",
    "        dw = gradiantes[\"dw\"]\n",
    "        db = gradiantes[\"db\"]\n",
    "        w = w - learning_rate * dw\n",
    "        b = b - learning_rate * db\n",
    "#Si la iteración actual es un múltiplo de 100, el coste se agrega a la lista costos y, si print_cost es True, se imprime el coste\n",
    "        if i % 100 == 0:\n",
    "            costos.append(cost)\n",
    "            if print_cost:\n",
    "                print(f\"Cost after iteration {i}: {cost}\")\n",
    "\n",
    "    params = {\"w\": w, \"b\": b}\n",
    "    gradiantes = {\"dw\": dw, \"db\": db}\n",
    "    \n",
    "    #Retorna los parametros, costos y gradiantes\n",
    "    return params, gradiantes, costos\n"
   ]
  },
  {
   "cell_type": "markdown",
   "id": "7b4e5c9c-e3ba-43d7-a761-70899da52538",
   "metadata": {},
   "source": [
    "##### Por ultimo se predicen los nuevos datos X"
   ]
  },
  {
   "cell_type": "code",
   "execution_count": 2,
   "id": "4c0edb92-5f13-4334-af6b-4a20207440e9",
   "metadata": {},
   "outputs": [],
   "source": [
    "def predict(w, b, X): # x es donde iran los nuevos datos\n",
    "    m = X.shape[0] #num de ejemplos\n",
    "    y_prediccion = np.zeros((m, 1)) #Array de ceros donde se almacenaran las predicciones\n",
    "    w = w.reshape(X.shape[1], 1)\n",
    "    # calcula la probabilidad de que cada X pertenezca a la clase 1 utilizando sigmoide\n",
    "    A = sigmoide(np.dot(X, w) + b)\n",
    "    #asigna una predicción de 1 si la probabilidad es mayor que 0.5, y 0 si no es asi\n",
    "    for i in range(A.shape[0]):\n",
    "        y_prediccion[i, 0] = 1 if A[i, 0] > 0.5 else 0\n",
    "        \n",
    "    return y_prediccion\n"
   ]
  },
  {
   "cell_type": "markdown",
   "id": "838a6f07-5fd4-4965-ad86-1cedd6d881bc",
   "metadata": {},
   "source": [
    "## Entrenamiento del modelo"
   ]
  },
  {
   "cell_type": "code",
   "execution_count": null,
   "id": "5d6ded95-c82a-4e61-b64b-67a348f30d41",
   "metadata": {},
   "outputs": [
    {
     "name": "stdout",
     "output_type": "stream",
     "text": [
      "Cost after iteration 0: 6338.1378190411515\n"
     ]
    },
    {
     "name": "stderr",
     "output_type": "stream",
     "text": [
      "/tmp/ipykernel_131293/2747025002.py:6: RuntimeWarning: divide by zero encountered in log\n",
      "  cost = (-1 / m) * np.sum(y * np.log(A) + (1 - y) * np.log(1 - A))\n",
      "/tmp/ipykernel_131293/2747025002.py:6: RuntimeWarning: invalid value encountered in multiply\n",
      "  cost = (-1 / m) * np.sum(y * np.log(A) + (1 - y) * np.log(1 - A))\n"
     ]
    },
    {
     "name": "stdout",
     "output_type": "stream",
     "text": [
      "Cost after iteration 100: nan\n",
      "Cost after iteration 200: nan\n",
      "Cost after iteration 300: nan\n"
     ]
    }
   ],
   "source": [
    "# Inicializar parámetros\n",
    "dim = X_train.shape[1]\n",
    "w, b = initialize_parameters(dim)\n",
    "\n",
    "# Gradiente descendente\n",
    "iterations_optimize = 2000  # Número de iteraciones\n",
    "learning_rate = 0.01\n",
    "params, gradiantes, costos = optimize(w, b, X_train, y_train, iterations_optimize, learning_rate, print_cost=True)\n",
    "\n",
    "# Predicciones\n",
    "w = params[\"w\"]\n",
    "b = params[\"b\"]\n",
    "y_pred_train = predict(w, b, X_train)\n",
    "y_pred_test = predict(w, b, X_test)\n"
   ]
  },
  {
   "cell_type": "code",
   "execution_count": null,
   "id": "f3b49792-314b-41b8-8477-b05af922651f",
   "metadata": {},
   "outputs": [],
   "source": [
    "from sklearn.metrics import accuracy_score\n",
    "\n",
    "accuracy_train = accuracy_score(y_train, y_pred_train)\n",
    "accuracy_test = accuracy_score(y_test, y_pred_test)\n",
    "\n",
    "print(f\"Accuracy on training set: {accuracy_train}\")\n",
    "print(f\"Accuracy on test set: {accuracy_test}\")\n"
   ]
  },
  {
   "cell_type": "code",
   "execution_count": null,
   "id": "b270426b-e92b-4404-8bb5-40298086019d",
   "metadata": {},
   "outputs": [],
   "source": [
    "\n",
    "# Selecciona las instancias de cada clase para el conjunto de entrenamiento\n",
    "pos = np.where(y_train == 1)  # phishing\n",
    "neg = np.where(y_train == 0)  # legitimate\n",
    "\n",
    "# Grafica las características seleccionadas por clase\n",
    "plt.scatter(X_train[pos, 0], X_train[pos, 1], color='red', label='Phishing', alpha=0.5)\n",
    "plt.scatter(X_train[neg, 0], X_train[neg, 1], color='green', label='Legitimate', alpha=0.5)\n",
    "\n",
    "plt.xlabel('Length URL')\n",
    "plt.ylabel('Number of Dots')\n",
    "plt.legend()\n"
   ]
  },
  {
   "cell_type": "code",
   "execution_count": null,
   "id": "4a2224ba-339f-4ab7-9d22-e2bc5b1c0ad0",
   "metadata": {},
   "outputs": [],
   "source": []
  }
 ],
 "metadata": {
  "kernelspec": {
   "display_name": "Python 3 (ipykernel)",
   "language": "python",
   "name": "python3"
  },
  "language_info": {
   "codemirror_mode": {
    "name": "ipython",
    "version": 3
   },
   "file_extension": ".py",
   "mimetype": "text/x-python",
   "name": "python",
   "nbconvert_exporter": "python",
   "pygments_lexer": "ipython3",
   "version": "3.11.4"
  }
 },
 "nbformat": 4,
 "nbformat_minor": 5
}
